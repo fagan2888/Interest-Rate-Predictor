{
 "cells": [
  {
   "cell_type": "code",
   "execution_count": 1,
   "metadata": {},
   "outputs": [],
   "source": [
    "#import libraries\n",
    "import json\n",
    "import psycopg2\n",
    "import pandas as pd\n",
    "import numpy as np"
   ]
  },
  {
   "cell_type": "code",
   "execution_count": 2,
   "metadata": {},
   "outputs": [],
   "source": [
    "#Establish connection to database\n",
    "with open('config.json') as f:\n",
    "    conf = json.load(f)\n",
    "conn_str = \"host={} dbname={} user={} password={}\".format(conf['host'], conf['database'], conf['user'], conf['passw'])\n",
    "conn = psycopg2.connect(conn_str)"
   ]
  },
  {
   "cell_type": "code",
   "execution_count": 3,
   "metadata": {},
   "outputs": [],
   "source": [
    "#Read columns from 2017 table\n",
    "df = pd.read_sql('SELECT loan_amnt, term, int_rate, emp_length, home_ownership, annual_inc, purpose, fico_range_low, fico_range_high, application_type FROM loanstats_2017', con=conn)"
   ]
  },
  {
   "cell_type": "code",
   "execution_count": 5,
   "metadata": {},
   "outputs": [
    {
     "name": "stdout",
     "output_type": "stream",
     "text": [
      "Original size is 4435790\n"
     ]
    },
    {
     "data": {
      "text/html": [
       "<div>\n",
       "<style scoped>\n",
       "    .dataframe tbody tr th:only-of-type {\n",
       "        vertical-align: middle;\n",
       "    }\n",
       "\n",
       "    .dataframe tbody tr th {\n",
       "        vertical-align: top;\n",
       "    }\n",
       "\n",
       "    .dataframe thead th {\n",
       "        text-align: right;\n",
       "    }\n",
       "</style>\n",
       "<table border=\"1\" class=\"dataframe\">\n",
       "  <thead>\n",
       "    <tr style=\"text-align: right;\">\n",
       "      <th></th>\n",
       "      <th>loan_amnt</th>\n",
       "      <th>term</th>\n",
       "      <th>int_rate</th>\n",
       "      <th>emp_length</th>\n",
       "      <th>home_ownership</th>\n",
       "      <th>annual_inc</th>\n",
       "      <th>purpose</th>\n",
       "      <th>fico_range_low</th>\n",
       "      <th>fico_range_high</th>\n",
       "      <th>application_type</th>\n",
       "    </tr>\n",
       "  </thead>\n",
       "  <tbody>\n",
       "    <tr>\n",
       "      <th>0</th>\n",
       "      <td>30000</td>\n",
       "      <td>36 months</td>\n",
       "      <td>7.35%</td>\n",
       "      <td>3 years</td>\n",
       "      <td>RENT</td>\n",
       "      <td>100000</td>\n",
       "      <td>debt_consolidation</td>\n",
       "      <td>715</td>\n",
       "      <td>719</td>\n",
       "      <td>Individual</td>\n",
       "    </tr>\n",
       "    <tr>\n",
       "      <th>1</th>\n",
       "      <td>6500</td>\n",
       "      <td>36 months</td>\n",
       "      <td>14.08%</td>\n",
       "      <td>&lt; 1 year</td>\n",
       "      <td>RENT</td>\n",
       "      <td>30000</td>\n",
       "      <td>debt_consolidation</td>\n",
       "      <td>685</td>\n",
       "      <td>689</td>\n",
       "      <td>Individual</td>\n",
       "    </tr>\n",
       "    <tr>\n",
       "      <th>2</th>\n",
       "      <td>10000</td>\n",
       "      <td>36 months</td>\n",
       "      <td>10.91%</td>\n",
       "      <td>4 years</td>\n",
       "      <td>RENT</td>\n",
       "      <td>50000</td>\n",
       "      <td>debt_consolidation</td>\n",
       "      <td>695</td>\n",
       "      <td>699</td>\n",
       "      <td>Individual</td>\n",
       "    </tr>\n",
       "  </tbody>\n",
       "</table>\n",
       "</div>"
      ],
      "text/plain": [
       "  loan_amnt        term int_rate emp_length home_ownership annual_inc  \\\n",
       "0     30000   36 months    7.35%    3 years           RENT     100000   \n",
       "1      6500   36 months   14.08%   < 1 year           RENT      30000   \n",
       "2     10000   36 months   10.91%    4 years           RENT      50000   \n",
       "\n",
       "              purpose fico_range_low fico_range_high application_type  \n",
       "0  debt_consolidation            715             719       Individual  \n",
       "1  debt_consolidation            685             689       Individual  \n",
       "2  debt_consolidation            695             699       Individual  "
      ]
     },
     "execution_count": 5,
     "metadata": {},
     "output_type": "execute_result"
    }
   ],
   "source": [
    "#Total number of elements in the loaded dataFrame\n",
    "print (\"Original size is\",df.size)\n",
    "df.head(3)"
   ]
  },
  {
   "cell_type": "code",
   "execution_count": 7,
   "metadata": {},
   "outputs": [
    {
     "data": {
      "text/plain": [
       "loan_amnt           object\n",
       "term                object\n",
       "int_rate            object\n",
       "emp_length          object\n",
       "home_ownership      object\n",
       "annual_inc          object\n",
       "purpose             object\n",
       "fico_range_low      object\n",
       "fico_range_high     object\n",
       "application_type    object\n",
       "dtype: object"
      ]
     },
     "execution_count": 7,
     "metadata": {},
     "output_type": "execute_result"
    }
   ],
   "source": [
    "#Check on datatypes in database\n",
    "#Note : Object in Pandas is a  String\n",
    "df.dtypes"
   ]
  },
  {
   "cell_type": "code",
   "execution_count": 9,
   "metadata": {},
   "outputs": [
    {
     "name": "stdout",
     "output_type": "stream",
     "text": [
      "The new size is 4011540\n"
     ]
    }
   ],
   "source": [
    "#Drop from the dataframe rows that have 'application_type' value different than \"Individual\"\n",
    "df1 = df.drop(df[df['application_type'] != 'Individual'].index)\n",
    "print (\"The new size is\",df1.size)"
   ]
  },
  {
   "cell_type": "code",
   "execution_count": 42,
   "metadata": {},
   "outputs": [],
   "source": [
    "#Sometimes the null values in this dataSet are not as NaN(pandas null value), but they are actually a string like 'n/a', 'NONE', 'null', 'NULL'\n",
    "#Replacing them by NaN, so pandas can detect that we have a null value\n",
    "\n",
    "df1.replace({'N/A':np.NaN,'n/a':np.NaN}, inplace=True)\n",
    "df1.replace({'NONE':np.NaN,'none':np.NaN}, inplace=True)\n",
    "df1.replace({'NULL':np.NaN,'null':np.NaN}, inplace=True)\n",
    "\n"
   ]
  },
  {
   "cell_type": "code",
   "execution_count": 43,
   "metadata": {},
   "outputs": [
    {
     "name": "stdout",
     "output_type": "stream",
     "text": [
      "<class 'pandas.core.frame.DataFrame'>\n",
      "Int64Index: 401154 entries, 0 to 443578\n",
      "Data columns (total 10 columns):\n",
      "loan_amnt           401154 non-null object\n",
      "term                401154 non-null int64\n",
      "int_rate            401154 non-null object\n",
      "emp_length          401154 non-null int32\n",
      "home_ownership      401153 non-null object\n",
      "annual_inc          401154 non-null object\n",
      "purpose             401154 non-null object\n",
      "fico_range_low      401154 non-null object\n",
      "fico_range_high     401154 non-null object\n",
      "application_type    401154 non-null object\n",
      "dtypes: int32(1), int64(1), object(8)\n",
      "memory usage: 32.1+ MB\n"
     ]
    }
   ],
   "source": [
    "df1.info()"
   ]
  },
  {
   "cell_type": "code",
   "execution_count": 174,
   "metadata": {},
   "outputs": [
    {
     "data": {
      "text/plain": [
       "array([' 36 months', ' 60 months'], dtype=object)"
      ]
     },
     "execution_count": 174,
     "metadata": {},
     "output_type": "execute_result"
    }
   ],
   "source": [
    "#Get List of unique values in the 'term' column\n",
    "df1['term'].unique()"
   ]
  },
  {
   "cell_type": "code",
   "execution_count": 17,
   "metadata": {},
   "outputs": [],
   "source": [
    "#Replace 'term' column by valid values\n",
    "df1['term'] = df1['term'].map({' 36 months':'36', ' 60 months':'60'})"
   ]
  },
  {
   "cell_type": "code",
   "execution_count": 18,
   "metadata": {},
   "outputs": [],
   "source": [
    "#convert to numeric\n",
    "df1['term'] = pd.to_numeric(df1['term'])"
   ]
  },
  {
   "cell_type": "code",
   "execution_count": 21,
   "metadata": {},
   "outputs": [
    {
     "data": {
      "text/plain": [
       "(2,)"
      ]
     },
     "execution_count": 21,
     "metadata": {},
     "output_type": "execute_result"
    }
   ],
   "source": [
    "df1['term'].unique().shape"
   ]
  },
  {
   "cell_type": "code",
   "execution_count": 20,
   "metadata": {},
   "outputs": [
    {
     "data": {
      "text/html": [
       "<div>\n",
       "<style scoped>\n",
       "    .dataframe tbody tr th:only-of-type {\n",
       "        vertical-align: middle;\n",
       "    }\n",
       "\n",
       "    .dataframe tbody tr th {\n",
       "        vertical-align: top;\n",
       "    }\n",
       "\n",
       "    .dataframe thead th {\n",
       "        text-align: right;\n",
       "    }\n",
       "</style>\n",
       "<table border=\"1\" class=\"dataframe\">\n",
       "  <thead>\n",
       "    <tr style=\"text-align: right;\">\n",
       "      <th></th>\n",
       "      <th>loan_amnt</th>\n",
       "      <th>term</th>\n",
       "      <th>int_rate</th>\n",
       "      <th>emp_length</th>\n",
       "      <th>home_ownership</th>\n",
       "      <th>annual_inc</th>\n",
       "      <th>purpose</th>\n",
       "      <th>fico_range_low</th>\n",
       "      <th>fico_range_high</th>\n",
       "      <th>application_type</th>\n",
       "    </tr>\n",
       "  </thead>\n",
       "  <tbody>\n",
       "  </tbody>\n",
       "</table>\n",
       "</div>"
      ],
      "text/plain": [
       "Empty DataFrame\n",
       "Columns: [loan_amnt, term, int_rate, emp_length, home_ownership, annual_inc, purpose, fico_range_low, fico_range_high, application_type]\n",
       "Index: []"
      ]
     },
     "execution_count": 20,
     "metadata": {},
     "output_type": "execute_result"
    }
   ],
   "source": [
    "#Check for null values\n",
    "df1[df1['term'].isnull()]"
   ]
  },
  {
   "cell_type": "code",
   "execution_count": 179,
   "metadata": {},
   "outputs": [
    {
     "data": {
      "text/plain": [
       "array(['7.35%', '14.08%', '10.91%', '9.93%', '19.03%', ' 14.08%',\n",
       "       ' 15.05%', '  7.21%', ' 13.59%', ' 10.42%', ' 12.62%', '18.06%',\n",
       "       '7.97%', '9.44%', '  9.93%', '  9.44%', ' 26.30%', '13.59%',\n",
       "       '12.62%', '  7.97%', '11.99%', '15.05%', '7.07%', '10.42%',\n",
       "       '16.02%', '7.21%', '26.30%', '30.84%', ' 10.91%', '  7.35%',\n",
       "       ' 30.79%', '17.09%', '5.32%', ' 22.91%', '23.88%', '  5.32%',\n",
       "       ' 11.99%', ' 16.02%', ' 20.00%', ' 23.88%', ' 18.06%', '30.94%',\n",
       "       '20.00%', ' 21.45%', ' 17.09%', ' 19.03%', '25.82%', '22.91%',\n",
       "       '21.45%', '28.72%', '24.85%', '  7.07%', ' 25.82%', ' 29.69%',\n",
       "       ' 30.65%', '29.69%', ' 24.85%', ' 30.94%', ' 28.72%', ' 30.99%',\n",
       "       ' 30.84%', '30.75%', ' 30.89%', '30.65%', '30.89%', '30.79%',\n",
       "       ' 30.75%', '30.99%', '30.17%', ' 30.17%', '6.08%', '6.72%',\n",
       "       '6.00%', ' 14.99%', '  7.49%', ' 15.99%', ' 18.99%', ' 12.74%',\n",
       "       '  7.24%', '  7.99%', ' 11.39%', ' 13.99%', ' 19.99%', '  8.24%',\n",
       "       ' 13.49%', ' 10.49%', ' 11.44%', ' 16.99%', ' 11.49%', ' 22.74%',\n",
       "       ' 25.49%', ' 28.69%', ' 17.99%', ' 29.49%', ' 26.24%', ' 30.49%',\n",
       "       '  6.99%', ' 21.49%', ' 23.99%', ' 24.74%', ' 29.99%', ' 30.74%',\n",
       "       '  6.00%'], dtype=object)"
      ]
     },
     "execution_count": 179,
     "metadata": {},
     "output_type": "execute_result"
    }
   ],
   "source": [
    "#Get list of unique values in 'int_rate' column\n",
    "df1['int_rate'].unique()"
   ]
  },
  {
   "cell_type": "code",
   "execution_count": 44,
   "metadata": {},
   "outputs": [],
   "source": [
    "#Remove '%' character in 'int_rate' column\n",
    "#df1['int_rate'] = df1['int_rate'].str.replace('%' , '')\n",
    "df1['int_rate'].replace(to_replace='%', value='', inplace=True, regex=True)"
   ]
  },
  {
   "cell_type": "code",
   "execution_count": 45,
   "metadata": {},
   "outputs": [],
   "source": [
    "#Remove spaces in 'int_rate' column\n",
    "#df1['int_rate'] = df1['int_rate'].str.replace('\\s+', '')\n",
    "df1['int_rate'].replace(to_replace='\\s+', value='', inplace=True, regex=True)"
   ]
  },
  {
   "cell_type": "code",
   "execution_count": 182,
   "metadata": {},
   "outputs": [
    {
     "data": {
      "text/plain": [
       "array(['7.35', '14.08', '10.91', '9.93', '19.03', '15.05', '7.21',\n",
       "       '13.59', '10.42', '12.62', '18.06', '7.97', '9.44', '26.30',\n",
       "       '11.99', '7.07', '16.02', '30.84', '30.79', '17.09', '5.32',\n",
       "       '22.91', '23.88', '20.00', '30.94', '21.45', '25.82', '28.72',\n",
       "       '24.85', '29.69', '30.65', '30.99', '30.75', '30.89', '30.17',\n",
       "       '6.08', '6.72', '6.00', '14.99', '7.49', '15.99', '18.99', '12.74',\n",
       "       '7.24', '7.99', '11.39', '13.99', '19.99', '8.24', '13.49',\n",
       "       '10.49', '11.44', '16.99', '11.49', '22.74', '25.49', '28.69',\n",
       "       '17.99', '29.49', '26.24', '30.49', '6.99', '21.49', '23.99',\n",
       "       '24.74', '29.99', '30.74'], dtype=object)"
      ]
     },
     "execution_count": 182,
     "metadata": {},
     "output_type": "execute_result"
    }
   ],
   "source": [
    "df1['int_rate'].unique()"
   ]
  },
  {
   "cell_type": "code",
   "execution_count": 183,
   "metadata": {},
   "outputs": [],
   "source": [
    "#Convert 'int_rate' data type to numeric\n",
    "df1['int_rate'] = pd.to_numeric(df1['int_rate'])"
   ]
  },
  {
   "cell_type": "code",
   "execution_count": 184,
   "metadata": {},
   "outputs": [
    {
     "data": {
      "text/plain": [
       "array([ 7.35, 14.08, 10.91,  9.93, 19.03, 15.05,  7.21, 13.59, 10.42,\n",
       "       12.62, 18.06,  7.97,  9.44, 26.3 , 11.99,  7.07, 16.02, 30.84,\n",
       "       30.79, 17.09,  5.32, 22.91, 23.88, 20.  , 30.94, 21.45, 25.82,\n",
       "       28.72, 24.85, 29.69, 30.65, 30.99, 30.75, 30.89, 30.17,  6.08,\n",
       "        6.72,  6.  , 14.99,  7.49, 15.99, 18.99, 12.74,  7.24,  7.99,\n",
       "       11.39, 13.99, 19.99,  8.24, 13.49, 10.49, 11.44, 16.99, 11.49,\n",
       "       22.74, 25.49, 28.69, 17.99, 29.49, 26.24, 30.49,  6.99, 21.49,\n",
       "       23.99, 24.74, 29.99, 30.74])"
      ]
     },
     "execution_count": 184,
     "metadata": {},
     "output_type": "execute_result"
    }
   ],
   "source": [
    "df1['int_rate'].unique()"
   ]
  },
  {
   "cell_type": "code",
   "execution_count": 185,
   "metadata": {},
   "outputs": [
    {
     "data": {
      "text/html": [
       "<div>\n",
       "<style scoped>\n",
       "    .dataframe tbody tr th:only-of-type {\n",
       "        vertical-align: middle;\n",
       "    }\n",
       "\n",
       "    .dataframe tbody tr th {\n",
       "        vertical-align: top;\n",
       "    }\n",
       "\n",
       "    .dataframe thead th {\n",
       "        text-align: right;\n",
       "    }\n",
       "</style>\n",
       "<table border=\"1\" class=\"dataframe\">\n",
       "  <thead>\n",
       "    <tr style=\"text-align: right;\">\n",
       "      <th></th>\n",
       "      <th>loan_amnt</th>\n",
       "      <th>term</th>\n",
       "      <th>int_rate</th>\n",
       "      <th>emp_length</th>\n",
       "      <th>home_ownership</th>\n",
       "      <th>annual_inc</th>\n",
       "      <th>purpose</th>\n",
       "      <th>fico_range_low</th>\n",
       "      <th>fico_range_high</th>\n",
       "      <th>application_type</th>\n",
       "    </tr>\n",
       "  </thead>\n",
       "  <tbody>\n",
       "  </tbody>\n",
       "</table>\n",
       "</div>"
      ],
      "text/plain": [
       "Empty DataFrame\n",
       "Columns: [loan_amnt, term, int_rate, emp_length, home_ownership, annual_inc, purpose, fico_range_low, fico_range_high, application_type]\n",
       "Index: []"
      ]
     },
     "execution_count": 185,
     "metadata": {},
     "output_type": "execute_result"
    }
   ],
   "source": [
    "#Check for null values\n",
    "df1[df1['int_rate'].isnull()]"
   ]
  },
  {
   "cell_type": "code",
   "execution_count": 186,
   "metadata": {},
   "outputs": [
    {
     "data": {
      "text/plain": [
       "dtype('float64')"
      ]
     },
     "execution_count": 186,
     "metadata": {},
     "output_type": "execute_result"
    }
   ],
   "source": [
    "df1['int_rate'].dtype"
   ]
  },
  {
   "cell_type": "code",
   "execution_count": 187,
   "metadata": {},
   "outputs": [
    {
     "data": {
      "text/plain": [
       "array(['30000', '6500', '10000', ..., '37625', '38775', '36775'],\n",
       "      dtype=object)"
      ]
     },
     "execution_count": 187,
     "metadata": {},
     "output_type": "execute_result"
    }
   ],
   "source": [
    "df1['loan_amnt'].unique()"
   ]
  },
  {
   "cell_type": "code",
   "execution_count": 188,
   "metadata": {},
   "outputs": [],
   "source": [
    "#convert 'loan_amnt' to numeric\n",
    "df1['loan_amnt'] = pd.to_numeric(df1['loan_amnt'])"
   ]
  },
  {
   "cell_type": "code",
   "execution_count": 189,
   "metadata": {},
   "outputs": [
    {
     "data": {
      "text/plain": [
       "dtype('int64')"
      ]
     },
     "execution_count": 189,
     "metadata": {},
     "output_type": "execute_result"
    }
   ],
   "source": [
    "df1['loan_amnt'].dtype"
   ]
  },
  {
   "cell_type": "code",
   "execution_count": 190,
   "metadata": {},
   "outputs": [
    {
     "data": {
      "text/plain": [
       "array([30000,  6500, 10000, ..., 37625, 38775, 36775], dtype=int64)"
      ]
     },
     "execution_count": 190,
     "metadata": {},
     "output_type": "execute_result"
    }
   ],
   "source": [
    "df1['loan_amnt'].unique()"
   ]
  },
  {
   "cell_type": "code",
   "execution_count": 191,
   "metadata": {},
   "outputs": [
    {
     "data": {
      "text/html": [
       "<div>\n",
       "<style scoped>\n",
       "    .dataframe tbody tr th:only-of-type {\n",
       "        vertical-align: middle;\n",
       "    }\n",
       "\n",
       "    .dataframe tbody tr th {\n",
       "        vertical-align: top;\n",
       "    }\n",
       "\n",
       "    .dataframe thead th {\n",
       "        text-align: right;\n",
       "    }\n",
       "</style>\n",
       "<table border=\"1\" class=\"dataframe\">\n",
       "  <thead>\n",
       "    <tr style=\"text-align: right;\">\n",
       "      <th></th>\n",
       "      <th>loan_amnt</th>\n",
       "      <th>term</th>\n",
       "      <th>int_rate</th>\n",
       "      <th>emp_length</th>\n",
       "      <th>home_ownership</th>\n",
       "      <th>annual_inc</th>\n",
       "      <th>purpose</th>\n",
       "      <th>fico_range_low</th>\n",
       "      <th>fico_range_high</th>\n",
       "      <th>application_type</th>\n",
       "    </tr>\n",
       "  </thead>\n",
       "  <tbody>\n",
       "  </tbody>\n",
       "</table>\n",
       "</div>"
      ],
      "text/plain": [
       "Empty DataFrame\n",
       "Columns: [loan_amnt, term, int_rate, emp_length, home_ownership, annual_inc, purpose, fico_range_low, fico_range_high, application_type]\n",
       "Index: []"
      ]
     },
     "execution_count": 191,
     "metadata": {},
     "output_type": "execute_result"
    }
   ],
   "source": [
    "#Check for null values\n",
    "df1[df1['loan_amnt'].isnull()]"
   ]
  },
  {
   "cell_type": "code",
   "execution_count": 192,
   "metadata": {},
   "outputs": [
    {
     "data": {
      "text/plain": [
       "array(['100000', '30000', '50000', ..., '112740', '14112', '107368.9'],\n",
       "      dtype=object)"
      ]
     },
     "execution_count": 192,
     "metadata": {},
     "output_type": "execute_result"
    }
   ],
   "source": [
    "df1['annual_inc'].unique()"
   ]
  },
  {
   "cell_type": "code",
   "execution_count": 193,
   "metadata": {},
   "outputs": [],
   "source": [
    "#Convert annual_inc to numeric\n",
    "df1['annual_inc'] = pd.to_numeric(df1['annual_inc'])"
   ]
  },
  {
   "cell_type": "code",
   "execution_count": 194,
   "metadata": {},
   "outputs": [
    {
     "data": {
      "text/plain": [
       "dtype('float64')"
      ]
     },
     "execution_count": 194,
     "metadata": {},
     "output_type": "execute_result"
    }
   ],
   "source": [
    "df1['annual_inc'].dtype"
   ]
  },
  {
   "cell_type": "code",
   "execution_count": 195,
   "metadata": {},
   "outputs": [
    {
     "data": {
      "text/plain": [
       "array([100000. ,  30000. ,  50000. , ..., 112740. ,  14112. , 107368.9])"
      ]
     },
     "execution_count": 195,
     "metadata": {},
     "output_type": "execute_result"
    }
   ],
   "source": [
    "df1['annual_inc'].unique()"
   ]
  },
  {
   "cell_type": "code",
   "execution_count": 196,
   "metadata": {},
   "outputs": [
    {
     "data": {
      "text/html": [
       "<div>\n",
       "<style scoped>\n",
       "    .dataframe tbody tr th:only-of-type {\n",
       "        vertical-align: middle;\n",
       "    }\n",
       "\n",
       "    .dataframe tbody tr th {\n",
       "        vertical-align: top;\n",
       "    }\n",
       "\n",
       "    .dataframe thead th {\n",
       "        text-align: right;\n",
       "    }\n",
       "</style>\n",
       "<table border=\"1\" class=\"dataframe\">\n",
       "  <thead>\n",
       "    <tr style=\"text-align: right;\">\n",
       "      <th></th>\n",
       "      <th>loan_amnt</th>\n",
       "      <th>term</th>\n",
       "      <th>int_rate</th>\n",
       "      <th>emp_length</th>\n",
       "      <th>home_ownership</th>\n",
       "      <th>annual_inc</th>\n",
       "      <th>purpose</th>\n",
       "      <th>fico_range_low</th>\n",
       "      <th>fico_range_high</th>\n",
       "      <th>application_type</th>\n",
       "    </tr>\n",
       "  </thead>\n",
       "  <tbody>\n",
       "  </tbody>\n",
       "</table>\n",
       "</div>"
      ],
      "text/plain": [
       "Empty DataFrame\n",
       "Columns: [loan_amnt, term, int_rate, emp_length, home_ownership, annual_inc, purpose, fico_range_low, fico_range_high, application_type]\n",
       "Index: []"
      ]
     },
     "execution_count": 196,
     "metadata": {},
     "output_type": "execute_result"
    }
   ],
   "source": [
    "#Check for null values\n",
    "df1[df1['annual_inc'].isnull()]"
   ]
  },
  {
   "cell_type": "code",
   "execution_count": 197,
   "metadata": {},
   "outputs": [
    {
     "data": {
      "text/plain": [
       "array(['715', '685', '695', '660', '665', '725', '705', '755', '700',\n",
       "       '710', '690', '745', '670', '720', '760', '750', '680', '675',\n",
       "       '735', '730', '780', '770', '785', '825', '740', '765', '800',\n",
       "       '790', '775', '810', '795', '830', '835', '805', '820', '815',\n",
       "       '840', '845'], dtype=object)"
      ]
     },
     "execution_count": 197,
     "metadata": {},
     "output_type": "execute_result"
    }
   ],
   "source": [
    "df1['fico_range_low'].unique()"
   ]
  },
  {
   "cell_type": "code",
   "execution_count": 198,
   "metadata": {},
   "outputs": [],
   "source": [
    "#Convert fico low to numeric\n",
    "df1['fico_range_low'] = pd.to_numeric(df1['fico_range_low'])"
   ]
  },
  {
   "cell_type": "code",
   "execution_count": 199,
   "metadata": {},
   "outputs": [
    {
     "data": {
      "text/plain": [
       "dtype('int64')"
      ]
     },
     "execution_count": 199,
     "metadata": {},
     "output_type": "execute_result"
    }
   ],
   "source": [
    "df1['fico_range_low'].dtype"
   ]
  },
  {
   "cell_type": "code",
   "execution_count": 200,
   "metadata": {},
   "outputs": [
    {
     "data": {
      "text/plain": [
       "array([715, 685, 695, 660, 665, 725, 705, 755, 700, 710, 690, 745, 670,\n",
       "       720, 760, 750, 680, 675, 735, 730, 780, 770, 785, 825, 740, 765,\n",
       "       800, 790, 775, 810, 795, 830, 835, 805, 820, 815, 840, 845],\n",
       "      dtype=int64)"
      ]
     },
     "execution_count": 200,
     "metadata": {},
     "output_type": "execute_result"
    }
   ],
   "source": [
    "df1['fico_range_low'].unique()"
   ]
  },
  {
   "cell_type": "code",
   "execution_count": 201,
   "metadata": {},
   "outputs": [
    {
     "data": {
      "text/html": [
       "<div>\n",
       "<style scoped>\n",
       "    .dataframe tbody tr th:only-of-type {\n",
       "        vertical-align: middle;\n",
       "    }\n",
       "\n",
       "    .dataframe tbody tr th {\n",
       "        vertical-align: top;\n",
       "    }\n",
       "\n",
       "    .dataframe thead th {\n",
       "        text-align: right;\n",
       "    }\n",
       "</style>\n",
       "<table border=\"1\" class=\"dataframe\">\n",
       "  <thead>\n",
       "    <tr style=\"text-align: right;\">\n",
       "      <th></th>\n",
       "      <th>loan_amnt</th>\n",
       "      <th>term</th>\n",
       "      <th>int_rate</th>\n",
       "      <th>emp_length</th>\n",
       "      <th>home_ownership</th>\n",
       "      <th>annual_inc</th>\n",
       "      <th>purpose</th>\n",
       "      <th>fico_range_low</th>\n",
       "      <th>fico_range_high</th>\n",
       "      <th>application_type</th>\n",
       "    </tr>\n",
       "  </thead>\n",
       "  <tbody>\n",
       "  </tbody>\n",
       "</table>\n",
       "</div>"
      ],
      "text/plain": [
       "Empty DataFrame\n",
       "Columns: [loan_amnt, term, int_rate, emp_length, home_ownership, annual_inc, purpose, fico_range_low, fico_range_high, application_type]\n",
       "Index: []"
      ]
     },
     "execution_count": 201,
     "metadata": {},
     "output_type": "execute_result"
    }
   ],
   "source": [
    "#Check for null values\n",
    "df1[df1['fico_range_low'].isnull()]"
   ]
  },
  {
   "cell_type": "code",
   "execution_count": 202,
   "metadata": {},
   "outputs": [],
   "source": [
    "#Convert fico high to numeric\n",
    "df1['fico_range_high'] = pd.to_numeric(df1['fico_range_high'])"
   ]
  },
  {
   "cell_type": "code",
   "execution_count": 203,
   "metadata": {},
   "outputs": [
    {
     "data": {
      "text/plain": [
       "array([719, 689, 699, 664, 669, 729, 709, 759, 704, 714, 694, 749, 674,\n",
       "       724, 764, 754, 684, 679, 739, 734, 784, 774, 789, 829, 744, 769,\n",
       "       804, 794, 779, 814, 799, 834, 839, 809, 824, 819, 844, 850],\n",
       "      dtype=int64)"
      ]
     },
     "execution_count": 203,
     "metadata": {},
     "output_type": "execute_result"
    }
   ],
   "source": [
    "df1['fico_range_high'].unique()"
   ]
  },
  {
   "cell_type": "code",
   "execution_count": 204,
   "metadata": {},
   "outputs": [
    {
     "data": {
      "text/html": [
       "<div>\n",
       "<style scoped>\n",
       "    .dataframe tbody tr th:only-of-type {\n",
       "        vertical-align: middle;\n",
       "    }\n",
       "\n",
       "    .dataframe tbody tr th {\n",
       "        vertical-align: top;\n",
       "    }\n",
       "\n",
       "    .dataframe thead th {\n",
       "        text-align: right;\n",
       "    }\n",
       "</style>\n",
       "<table border=\"1\" class=\"dataframe\">\n",
       "  <thead>\n",
       "    <tr style=\"text-align: right;\">\n",
       "      <th></th>\n",
       "      <th>loan_amnt</th>\n",
       "      <th>term</th>\n",
       "      <th>int_rate</th>\n",
       "      <th>emp_length</th>\n",
       "      <th>home_ownership</th>\n",
       "      <th>annual_inc</th>\n",
       "      <th>purpose</th>\n",
       "      <th>fico_range_low</th>\n",
       "      <th>fico_range_high</th>\n",
       "      <th>application_type</th>\n",
       "    </tr>\n",
       "  </thead>\n",
       "  <tbody>\n",
       "  </tbody>\n",
       "</table>\n",
       "</div>"
      ],
      "text/plain": [
       "Empty DataFrame\n",
       "Columns: [loan_amnt, term, int_rate, emp_length, home_ownership, annual_inc, purpose, fico_range_low, fico_range_high, application_type]\n",
       "Index: []"
      ]
     },
     "execution_count": 204,
     "metadata": {},
     "output_type": "execute_result"
    }
   ],
   "source": [
    "#Check for null values\n",
    "df1[df1['fico_range_high'].isnull()]\n",
    "\n"
   ]
  },
  {
   "cell_type": "code",
   "execution_count": 205,
   "metadata": {},
   "outputs": [],
   "source": [
    "#I think we need to make the home_ownership and purpose columns numerical as well"
   ]
  },
  {
   "cell_type": "code",
   "execution_count": 22,
   "metadata": {},
   "outputs": [
    {
     "data": {
      "text/html": [
       "<div>\n",
       "<style scoped>\n",
       "    .dataframe tbody tr th:only-of-type {\n",
       "        vertical-align: middle;\n",
       "    }\n",
       "\n",
       "    .dataframe tbody tr th {\n",
       "        vertical-align: top;\n",
       "    }\n",
       "\n",
       "    .dataframe thead th {\n",
       "        text-align: right;\n",
       "    }\n",
       "</style>\n",
       "<table border=\"1\" class=\"dataframe\">\n",
       "  <thead>\n",
       "    <tr style=\"text-align: right;\">\n",
       "      <th></th>\n",
       "      <th>loan_amnt</th>\n",
       "      <th>term</th>\n",
       "      <th>int_rate</th>\n",
       "      <th>emp_length</th>\n",
       "      <th>home_ownership</th>\n",
       "      <th>annual_inc</th>\n",
       "      <th>purpose</th>\n",
       "      <th>fico_range_low</th>\n",
       "      <th>fico_range_high</th>\n",
       "      <th>application_type</th>\n",
       "    </tr>\n",
       "  </thead>\n",
       "  <tbody>\n",
       "    <tr>\n",
       "      <th>16</th>\n",
       "      <td>28000</td>\n",
       "      <td>60</td>\n",
       "      <td>18.06%</td>\n",
       "      <td>NaN</td>\n",
       "      <td>MORTGAGE</td>\n",
       "      <td>93996</td>\n",
       "      <td>major_purchase</td>\n",
       "      <td>700</td>\n",
       "      <td>704</td>\n",
       "      <td>Individual</td>\n",
       "    </tr>\n",
       "    <tr>\n",
       "      <th>21</th>\n",
       "      <td>20000</td>\n",
       "      <td>36</td>\n",
       "      <td>7.21%</td>\n",
       "      <td>NaN</td>\n",
       "      <td>MORTGAGE</td>\n",
       "      <td>40000</td>\n",
       "      <td>debt_consolidation</td>\n",
       "      <td>710</td>\n",
       "      <td>714</td>\n",
       "      <td>Individual</td>\n",
       "    </tr>\n",
       "    <tr>\n",
       "      <th>54</th>\n",
       "      <td>4800</td>\n",
       "      <td>36</td>\n",
       "      <td>7.21%</td>\n",
       "      <td>NaN</td>\n",
       "      <td>RENT</td>\n",
       "      <td>17850</td>\n",
       "      <td>debt_consolidation</td>\n",
       "      <td>715</td>\n",
       "      <td>719</td>\n",
       "      <td>Individual</td>\n",
       "    </tr>\n",
       "    <tr>\n",
       "      <th>56</th>\n",
       "      <td>12000</td>\n",
       "      <td>36</td>\n",
       "      <td>11.99%</td>\n",
       "      <td>NaN</td>\n",
       "      <td>MORTGAGE</td>\n",
       "      <td>55555</td>\n",
       "      <td>debt_consolidation</td>\n",
       "      <td>710</td>\n",
       "      <td>714</td>\n",
       "      <td>Individual</td>\n",
       "    </tr>\n",
       "    <tr>\n",
       "      <th>62</th>\n",
       "      <td>15175</td>\n",
       "      <td>36</td>\n",
       "      <td>7.97%</td>\n",
       "      <td>NaN</td>\n",
       "      <td>MORTGAGE</td>\n",
       "      <td>73200</td>\n",
       "      <td>debt_consolidation</td>\n",
       "      <td>705</td>\n",
       "      <td>709</td>\n",
       "      <td>Individual</td>\n",
       "    </tr>\n",
       "    <tr>\n",
       "      <th>74</th>\n",
       "      <td>25000</td>\n",
       "      <td>36</td>\n",
       "      <td>7.97%</td>\n",
       "      <td>NaN</td>\n",
       "      <td>OWN</td>\n",
       "      <td>82000</td>\n",
       "      <td>debt_consolidation</td>\n",
       "      <td>735</td>\n",
       "      <td>739</td>\n",
       "      <td>Individual</td>\n",
       "    </tr>\n",
       "    <tr>\n",
       "      <th>110</th>\n",
       "      <td>5000</td>\n",
       "      <td>36</td>\n",
       "      <td>7.07%</td>\n",
       "      <td>NaN</td>\n",
       "      <td>OWN</td>\n",
       "      <td>45000</td>\n",
       "      <td>debt_consolidation</td>\n",
       "      <td>785</td>\n",
       "      <td>789</td>\n",
       "      <td>Individual</td>\n",
       "    </tr>\n",
       "    <tr>\n",
       "      <th>132</th>\n",
       "      <td>5500</td>\n",
       "      <td>36</td>\n",
       "      <td>17.09%</td>\n",
       "      <td>NaN</td>\n",
       "      <td>MORTGAGE</td>\n",
       "      <td>43200</td>\n",
       "      <td>home_improvement</td>\n",
       "      <td>700</td>\n",
       "      <td>704</td>\n",
       "      <td>Individual</td>\n",
       "    </tr>\n",
       "    <tr>\n",
       "      <th>141</th>\n",
       "      <td>3000</td>\n",
       "      <td>36</td>\n",
       "      <td>10.91%</td>\n",
       "      <td>NaN</td>\n",
       "      <td>RENT</td>\n",
       "      <td>19500</td>\n",
       "      <td>car</td>\n",
       "      <td>695</td>\n",
       "      <td>699</td>\n",
       "      <td>Individual</td>\n",
       "    </tr>\n",
       "    <tr>\n",
       "      <th>148</th>\n",
       "      <td>16000</td>\n",
       "      <td>36</td>\n",
       "      <td>11.99%</td>\n",
       "      <td>NaN</td>\n",
       "      <td>OWN</td>\n",
       "      <td>60000</td>\n",
       "      <td>debt_consolidation</td>\n",
       "      <td>745</td>\n",
       "      <td>749</td>\n",
       "      <td>Individual</td>\n",
       "    </tr>\n",
       "    <tr>\n",
       "      <th>210</th>\n",
       "      <td>3200</td>\n",
       "      <td>36</td>\n",
       "      <td>10.42%</td>\n",
       "      <td>NaN</td>\n",
       "      <td>OWN</td>\n",
       "      <td>42000</td>\n",
       "      <td>other</td>\n",
       "      <td>695</td>\n",
       "      <td>699</td>\n",
       "      <td>Individual</td>\n",
       "    </tr>\n",
       "    <tr>\n",
       "      <th>213</th>\n",
       "      <td>12000</td>\n",
       "      <td>60</td>\n",
       "      <td>10.42%</td>\n",
       "      <td>NaN</td>\n",
       "      <td>RENT</td>\n",
       "      <td>50000</td>\n",
       "      <td>other</td>\n",
       "      <td>790</td>\n",
       "      <td>794</td>\n",
       "      <td>Individual</td>\n",
       "    </tr>\n",
       "    <tr>\n",
       "      <th>221</th>\n",
       "      <td>32000</td>\n",
       "      <td>36</td>\n",
       "      <td>13.59%</td>\n",
       "      <td>NaN</td>\n",
       "      <td>MORTGAGE</td>\n",
       "      <td>90000</td>\n",
       "      <td>debt_consolidation</td>\n",
       "      <td>670</td>\n",
       "      <td>674</td>\n",
       "      <td>Individual</td>\n",
       "    </tr>\n",
       "    <tr>\n",
       "      <th>227</th>\n",
       "      <td>4000</td>\n",
       "      <td>36</td>\n",
       "      <td>14.08%</td>\n",
       "      <td>NaN</td>\n",
       "      <td>RENT</td>\n",
       "      <td>21500</td>\n",
       "      <td>debt_consolidation</td>\n",
       "      <td>685</td>\n",
       "      <td>689</td>\n",
       "      <td>Individual</td>\n",
       "    </tr>\n",
       "    <tr>\n",
       "      <th>241</th>\n",
       "      <td>40000</td>\n",
       "      <td>36</td>\n",
       "      <td>7.21%</td>\n",
       "      <td>NaN</td>\n",
       "      <td>MORTGAGE</td>\n",
       "      <td>125000</td>\n",
       "      <td>debt_consolidation</td>\n",
       "      <td>730</td>\n",
       "      <td>734</td>\n",
       "      <td>Individual</td>\n",
       "    </tr>\n",
       "    <tr>\n",
       "      <th>243</th>\n",
       "      <td>6150</td>\n",
       "      <td>36</td>\n",
       "      <td>9.44%</td>\n",
       "      <td>NaN</td>\n",
       "      <td>RENT</td>\n",
       "      <td>24000</td>\n",
       "      <td>car</td>\n",
       "      <td>670</td>\n",
       "      <td>674</td>\n",
       "      <td>Individual</td>\n",
       "    </tr>\n",
       "    <tr>\n",
       "      <th>264</th>\n",
       "      <td>5000</td>\n",
       "      <td>36</td>\n",
       "      <td>11.99%</td>\n",
       "      <td>NaN</td>\n",
       "      <td>RENT</td>\n",
       "      <td>19600</td>\n",
       "      <td>debt_consolidation</td>\n",
       "      <td>675</td>\n",
       "      <td>679</td>\n",
       "      <td>Individual</td>\n",
       "    </tr>\n",
       "    <tr>\n",
       "      <th>268</th>\n",
       "      <td>2400</td>\n",
       "      <td>36</td>\n",
       "      <td>16.02%</td>\n",
       "      <td>NaN</td>\n",
       "      <td>MORTGAGE</td>\n",
       "      <td>11340</td>\n",
       "      <td>home_improvement</td>\n",
       "      <td>715</td>\n",
       "      <td>719</td>\n",
       "      <td>Individual</td>\n",
       "    </tr>\n",
       "    <tr>\n",
       "      <th>304</th>\n",
       "      <td>26000</td>\n",
       "      <td>36</td>\n",
       "      <td>7.07%</td>\n",
       "      <td>NaN</td>\n",
       "      <td>MORTGAGE</td>\n",
       "      <td>105000</td>\n",
       "      <td>debt_consolidation</td>\n",
       "      <td>750</td>\n",
       "      <td>754</td>\n",
       "      <td>Individual</td>\n",
       "    </tr>\n",
       "    <tr>\n",
       "      <th>309</th>\n",
       "      <td>4000</td>\n",
       "      <td>36</td>\n",
       "      <td>9.44%</td>\n",
       "      <td>NaN</td>\n",
       "      <td>OWN</td>\n",
       "      <td>34000</td>\n",
       "      <td>other</td>\n",
       "      <td>765</td>\n",
       "      <td>769</td>\n",
       "      <td>Individual</td>\n",
       "    </tr>\n",
       "    <tr>\n",
       "      <th>320</th>\n",
       "      <td>25000</td>\n",
       "      <td>36</td>\n",
       "      <td>5.32%</td>\n",
       "      <td>NaN</td>\n",
       "      <td>MORTGAGE</td>\n",
       "      <td>62001</td>\n",
       "      <td>debt_consolidation</td>\n",
       "      <td>770</td>\n",
       "      <td>774</td>\n",
       "      <td>Individual</td>\n",
       "    </tr>\n",
       "    <tr>\n",
       "      <th>323</th>\n",
       "      <td>8000</td>\n",
       "      <td>36</td>\n",
       "      <td>5.32%</td>\n",
       "      <td>NaN</td>\n",
       "      <td>MORTGAGE</td>\n",
       "      <td>60000</td>\n",
       "      <td>home_improvement</td>\n",
       "      <td>800</td>\n",
       "      <td>804</td>\n",
       "      <td>Individual</td>\n",
       "    </tr>\n",
       "    <tr>\n",
       "      <th>338</th>\n",
       "      <td>10000</td>\n",
       "      <td>36</td>\n",
       "      <td>9.44%</td>\n",
       "      <td>NaN</td>\n",
       "      <td>OWN</td>\n",
       "      <td>50000</td>\n",
       "      <td>debt_consolidation</td>\n",
       "      <td>660</td>\n",
       "      <td>664</td>\n",
       "      <td>Individual</td>\n",
       "    </tr>\n",
       "    <tr>\n",
       "      <th>355</th>\n",
       "      <td>30000</td>\n",
       "      <td>60</td>\n",
       "      <td>9.44%</td>\n",
       "      <td>NaN</td>\n",
       "      <td>MORTGAGE</td>\n",
       "      <td>65000</td>\n",
       "      <td>debt_consolidation</td>\n",
       "      <td>740</td>\n",
       "      <td>744</td>\n",
       "      <td>Individual</td>\n",
       "    </tr>\n",
       "    <tr>\n",
       "      <th>357</th>\n",
       "      <td>2500</td>\n",
       "      <td>36</td>\n",
       "      <td>7.97%</td>\n",
       "      <td>NaN</td>\n",
       "      <td>RENT</td>\n",
       "      <td>16200</td>\n",
       "      <td>debt_consolidation</td>\n",
       "      <td>745</td>\n",
       "      <td>749</td>\n",
       "      <td>Individual</td>\n",
       "    </tr>\n",
       "    <tr>\n",
       "      <th>377</th>\n",
       "      <td>3025</td>\n",
       "      <td>36</td>\n",
       "      <td>9.93%</td>\n",
       "      <td>NaN</td>\n",
       "      <td>RENT</td>\n",
       "      <td>25000</td>\n",
       "      <td>other</td>\n",
       "      <td>710</td>\n",
       "      <td>714</td>\n",
       "      <td>Individual</td>\n",
       "    </tr>\n",
       "    <tr>\n",
       "      <th>412</th>\n",
       "      <td>18000</td>\n",
       "      <td>60</td>\n",
       "      <td>14.08%</td>\n",
       "      <td>NaN</td>\n",
       "      <td>MORTGAGE</td>\n",
       "      <td>88000</td>\n",
       "      <td>debt_consolidation</td>\n",
       "      <td>660</td>\n",
       "      <td>664</td>\n",
       "      <td>Individual</td>\n",
       "    </tr>\n",
       "    <tr>\n",
       "      <th>427</th>\n",
       "      <td>4500</td>\n",
       "      <td>36</td>\n",
       "      <td>19.03%</td>\n",
       "      <td>NaN</td>\n",
       "      <td>RENT</td>\n",
       "      <td>12924</td>\n",
       "      <td>debt_consolidation</td>\n",
       "      <td>680</td>\n",
       "      <td>684</td>\n",
       "      <td>Individual</td>\n",
       "    </tr>\n",
       "    <tr>\n",
       "      <th>434</th>\n",
       "      <td>13000</td>\n",
       "      <td>60</td>\n",
       "      <td>19.03%</td>\n",
       "      <td>NaN</td>\n",
       "      <td>RENT</td>\n",
       "      <td>40000</td>\n",
       "      <td>credit_card</td>\n",
       "      <td>685</td>\n",
       "      <td>689</td>\n",
       "      <td>Individual</td>\n",
       "    </tr>\n",
       "    <tr>\n",
       "      <th>444</th>\n",
       "      <td>6000</td>\n",
       "      <td>36</td>\n",
       "      <td>9.44%</td>\n",
       "      <td>NaN</td>\n",
       "      <td>MORTGAGE</td>\n",
       "      <td>45000</td>\n",
       "      <td>debt_consolidation</td>\n",
       "      <td>690</td>\n",
       "      <td>694</td>\n",
       "      <td>Individual</td>\n",
       "    </tr>\n",
       "    <tr>\n",
       "      <th>...</th>\n",
       "      <td>...</td>\n",
       "      <td>...</td>\n",
       "      <td>...</td>\n",
       "      <td>...</td>\n",
       "      <td>...</td>\n",
       "      <td>...</td>\n",
       "      <td>...</td>\n",
       "      <td>...</td>\n",
       "      <td>...</td>\n",
       "      <td>...</td>\n",
       "    </tr>\n",
       "    <tr>\n",
       "      <th>443070</th>\n",
       "      <td>40000</td>\n",
       "      <td>36</td>\n",
       "      <td>7.21%</td>\n",
       "      <td>NaN</td>\n",
       "      <td>MORTGAGE</td>\n",
       "      <td>194000</td>\n",
       "      <td>home_improvement</td>\n",
       "      <td>790</td>\n",
       "      <td>794</td>\n",
       "      <td>Individual</td>\n",
       "    </tr>\n",
       "    <tr>\n",
       "      <th>443089</th>\n",
       "      <td>8500</td>\n",
       "      <td>36</td>\n",
       "      <td>9.44%</td>\n",
       "      <td>NaN</td>\n",
       "      <td>OWN</td>\n",
       "      <td>58500</td>\n",
       "      <td>credit_card</td>\n",
       "      <td>705</td>\n",
       "      <td>709</td>\n",
       "      <td>Individual</td>\n",
       "    </tr>\n",
       "    <tr>\n",
       "      <th>443105</th>\n",
       "      <td>5000</td>\n",
       "      <td>36</td>\n",
       "      <td>9.44%</td>\n",
       "      <td>NaN</td>\n",
       "      <td>MORTGAGE</td>\n",
       "      <td>68000</td>\n",
       "      <td>debt_consolidation</td>\n",
       "      <td>660</td>\n",
       "      <td>664</td>\n",
       "      <td>Individual</td>\n",
       "    </tr>\n",
       "    <tr>\n",
       "      <th>443140</th>\n",
       "      <td>15000</td>\n",
       "      <td>36</td>\n",
       "      <td>9.44%</td>\n",
       "      <td>NaN</td>\n",
       "      <td>MORTGAGE</td>\n",
       "      <td>74000</td>\n",
       "      <td>debt_consolidation</td>\n",
       "      <td>730</td>\n",
       "      <td>734</td>\n",
       "      <td>Individual</td>\n",
       "    </tr>\n",
       "    <tr>\n",
       "      <th>443153</th>\n",
       "      <td>7825</td>\n",
       "      <td>36</td>\n",
       "      <td>23.88%</td>\n",
       "      <td>NaN</td>\n",
       "      <td>MORTGAGE</td>\n",
       "      <td>27000</td>\n",
       "      <td>debt_consolidation</td>\n",
       "      <td>685</td>\n",
       "      <td>689</td>\n",
       "      <td>Individual</td>\n",
       "    </tr>\n",
       "    <tr>\n",
       "      <th>443162</th>\n",
       "      <td>2500</td>\n",
       "      <td>36</td>\n",
       "      <td>14.08%</td>\n",
       "      <td>NaN</td>\n",
       "      <td>MORTGAGE</td>\n",
       "      <td>15000</td>\n",
       "      <td>other</td>\n",
       "      <td>675</td>\n",
       "      <td>679</td>\n",
       "      <td>Individual</td>\n",
       "    </tr>\n",
       "    <tr>\n",
       "      <th>443171</th>\n",
       "      <td>6000</td>\n",
       "      <td>36</td>\n",
       "      <td>5.32%</td>\n",
       "      <td>NaN</td>\n",
       "      <td>OWN</td>\n",
       "      <td>20000</td>\n",
       "      <td>debt_consolidation</td>\n",
       "      <td>800</td>\n",
       "      <td>804</td>\n",
       "      <td>Individual</td>\n",
       "    </tr>\n",
       "    <tr>\n",
       "      <th>443188</th>\n",
       "      <td>16000</td>\n",
       "      <td>36</td>\n",
       "      <td>9.93%</td>\n",
       "      <td>NaN</td>\n",
       "      <td>MORTGAGE</td>\n",
       "      <td>53000</td>\n",
       "      <td>major_purchase</td>\n",
       "      <td>660</td>\n",
       "      <td>664</td>\n",
       "      <td>Individual</td>\n",
       "    </tr>\n",
       "    <tr>\n",
       "      <th>443189</th>\n",
       "      <td>23900</td>\n",
       "      <td>36</td>\n",
       "      <td>9.44%</td>\n",
       "      <td>NaN</td>\n",
       "      <td>RENT</td>\n",
       "      <td>52000</td>\n",
       "      <td>house</td>\n",
       "      <td>795</td>\n",
       "      <td>799</td>\n",
       "      <td>Individual</td>\n",
       "    </tr>\n",
       "    <tr>\n",
       "      <th>443197</th>\n",
       "      <td>24000</td>\n",
       "      <td>36</td>\n",
       "      <td>10.42%</td>\n",
       "      <td>NaN</td>\n",
       "      <td>MORTGAGE</td>\n",
       "      <td>80000</td>\n",
       "      <td>debt_consolidation</td>\n",
       "      <td>685</td>\n",
       "      <td>689</td>\n",
       "      <td>Individual</td>\n",
       "    </tr>\n",
       "    <tr>\n",
       "      <th>443200</th>\n",
       "      <td>30000</td>\n",
       "      <td>60</td>\n",
       "      <td>24.85%</td>\n",
       "      <td>NaN</td>\n",
       "      <td>MORTGAGE</td>\n",
       "      <td>63000</td>\n",
       "      <td>other</td>\n",
       "      <td>765</td>\n",
       "      <td>769</td>\n",
       "      <td>Individual</td>\n",
       "    </tr>\n",
       "    <tr>\n",
       "      <th>443202</th>\n",
       "      <td>10000</td>\n",
       "      <td>36</td>\n",
       "      <td>7.35%</td>\n",
       "      <td>NaN</td>\n",
       "      <td>MORTGAGE</td>\n",
       "      <td>35000</td>\n",
       "      <td>debt_consolidation</td>\n",
       "      <td>705</td>\n",
       "      <td>709</td>\n",
       "      <td>Individual</td>\n",
       "    </tr>\n",
       "    <tr>\n",
       "      <th>443213</th>\n",
       "      <td>4800</td>\n",
       "      <td>36</td>\n",
       "      <td>7.97%</td>\n",
       "      <td>NaN</td>\n",
       "      <td>OWN</td>\n",
       "      <td>29000</td>\n",
       "      <td>debt_consolidation</td>\n",
       "      <td>710</td>\n",
       "      <td>714</td>\n",
       "      <td>Individual</td>\n",
       "    </tr>\n",
       "    <tr>\n",
       "      <th>443216</th>\n",
       "      <td>4000</td>\n",
       "      <td>36</td>\n",
       "      <td>14.08%</td>\n",
       "      <td>NaN</td>\n",
       "      <td>MORTGAGE</td>\n",
       "      <td>23700</td>\n",
       "      <td>home_improvement</td>\n",
       "      <td>690</td>\n",
       "      <td>694</td>\n",
       "      <td>Individual</td>\n",
       "    </tr>\n",
       "    <tr>\n",
       "      <th>443281</th>\n",
       "      <td>16000</td>\n",
       "      <td>60</td>\n",
       "      <td>25.82%</td>\n",
       "      <td>NaN</td>\n",
       "      <td>MORTGAGE</td>\n",
       "      <td>48396</td>\n",
       "      <td>other</td>\n",
       "      <td>680</td>\n",
       "      <td>684</td>\n",
       "      <td>Individual</td>\n",
       "    </tr>\n",
       "    <tr>\n",
       "      <th>443307</th>\n",
       "      <td>7500</td>\n",
       "      <td>36</td>\n",
       "      <td>14.08%</td>\n",
       "      <td>NaN</td>\n",
       "      <td>RENT</td>\n",
       "      <td>21000</td>\n",
       "      <td>debt_consolidation</td>\n",
       "      <td>740</td>\n",
       "      <td>744</td>\n",
       "      <td>Individual</td>\n",
       "    </tr>\n",
       "    <tr>\n",
       "      <th>443316</th>\n",
       "      <td>10500</td>\n",
       "      <td>60</td>\n",
       "      <td>9.44%</td>\n",
       "      <td>NaN</td>\n",
       "      <td>MORTGAGE</td>\n",
       "      <td>40000</td>\n",
       "      <td>debt_consolidation</td>\n",
       "      <td>725</td>\n",
       "      <td>729</td>\n",
       "      <td>Individual</td>\n",
       "    </tr>\n",
       "    <tr>\n",
       "      <th>443348</th>\n",
       "      <td>35000</td>\n",
       "      <td>60</td>\n",
       "      <td>18.06%</td>\n",
       "      <td>NaN</td>\n",
       "      <td>MORTGAGE</td>\n",
       "      <td>110000</td>\n",
       "      <td>small_business</td>\n",
       "      <td>675</td>\n",
       "      <td>679</td>\n",
       "      <td>Individual</td>\n",
       "    </tr>\n",
       "    <tr>\n",
       "      <th>443355</th>\n",
       "      <td>6500</td>\n",
       "      <td>36</td>\n",
       "      <td>12.62%</td>\n",
       "      <td>NaN</td>\n",
       "      <td>OWN</td>\n",
       "      <td>120000</td>\n",
       "      <td>debt_consolidation</td>\n",
       "      <td>660</td>\n",
       "      <td>664</td>\n",
       "      <td>Individual</td>\n",
       "    </tr>\n",
       "    <tr>\n",
       "      <th>443365</th>\n",
       "      <td>28000</td>\n",
       "      <td>36</td>\n",
       "      <td>7.97%</td>\n",
       "      <td>NaN</td>\n",
       "      <td>MORTGAGE</td>\n",
       "      <td>58298</td>\n",
       "      <td>debt_consolidation</td>\n",
       "      <td>755</td>\n",
       "      <td>759</td>\n",
       "      <td>Individual</td>\n",
       "    </tr>\n",
       "    <tr>\n",
       "      <th>443374</th>\n",
       "      <td>12000</td>\n",
       "      <td>36</td>\n",
       "      <td>7.35%</td>\n",
       "      <td>NaN</td>\n",
       "      <td>RENT</td>\n",
       "      <td>34000</td>\n",
       "      <td>debt_consolidation</td>\n",
       "      <td>725</td>\n",
       "      <td>729</td>\n",
       "      <td>Individual</td>\n",
       "    </tr>\n",
       "    <tr>\n",
       "      <th>443411</th>\n",
       "      <td>2100</td>\n",
       "      <td>36</td>\n",
       "      <td>21.45%</td>\n",
       "      <td>NaN</td>\n",
       "      <td>OWN</td>\n",
       "      <td>54108</td>\n",
       "      <td>other</td>\n",
       "      <td>710</td>\n",
       "      <td>714</td>\n",
       "      <td>Individual</td>\n",
       "    </tr>\n",
       "    <tr>\n",
       "      <th>443443</th>\n",
       "      <td>15225</td>\n",
       "      <td>36</td>\n",
       "      <td>24.85%</td>\n",
       "      <td>NaN</td>\n",
       "      <td>OWN</td>\n",
       "      <td>70000</td>\n",
       "      <td>credit_card</td>\n",
       "      <td>660</td>\n",
       "      <td>664</td>\n",
       "      <td>Individual</td>\n",
       "    </tr>\n",
       "    <tr>\n",
       "      <th>443452</th>\n",
       "      <td>5600</td>\n",
       "      <td>36</td>\n",
       "      <td>19.03%</td>\n",
       "      <td>NaN</td>\n",
       "      <td>OWN</td>\n",
       "      <td>25000</td>\n",
       "      <td>debt_consolidation</td>\n",
       "      <td>665</td>\n",
       "      <td>669</td>\n",
       "      <td>Individual</td>\n",
       "    </tr>\n",
       "    <tr>\n",
       "      <th>443454</th>\n",
       "      <td>2100</td>\n",
       "      <td>36</td>\n",
       "      <td>7.07%</td>\n",
       "      <td>NaN</td>\n",
       "      <td>OWN</td>\n",
       "      <td>55000</td>\n",
       "      <td>other</td>\n",
       "      <td>795</td>\n",
       "      <td>799</td>\n",
       "      <td>Individual</td>\n",
       "    </tr>\n",
       "    <tr>\n",
       "      <th>443474</th>\n",
       "      <td>35000</td>\n",
       "      <td>60</td>\n",
       "      <td>7.97%</td>\n",
       "      <td>NaN</td>\n",
       "      <td>OWN</td>\n",
       "      <td>94900</td>\n",
       "      <td>other</td>\n",
       "      <td>825</td>\n",
       "      <td>829</td>\n",
       "      <td>Individual</td>\n",
       "    </tr>\n",
       "    <tr>\n",
       "      <th>443489</th>\n",
       "      <td>3500</td>\n",
       "      <td>36</td>\n",
       "      <td>10.42%</td>\n",
       "      <td>NaN</td>\n",
       "      <td>RENT</td>\n",
       "      <td>26000</td>\n",
       "      <td>debt_consolidation</td>\n",
       "      <td>700</td>\n",
       "      <td>704</td>\n",
       "      <td>Individual</td>\n",
       "    </tr>\n",
       "    <tr>\n",
       "      <th>443508</th>\n",
       "      <td>13000</td>\n",
       "      <td>36</td>\n",
       "      <td>7.07%</td>\n",
       "      <td>NaN</td>\n",
       "      <td>MORTGAGE</td>\n",
       "      <td>84000</td>\n",
       "      <td>debt_consolidation</td>\n",
       "      <td>755</td>\n",
       "      <td>759</td>\n",
       "      <td>Individual</td>\n",
       "    </tr>\n",
       "    <tr>\n",
       "      <th>443533</th>\n",
       "      <td>5000</td>\n",
       "      <td>36</td>\n",
       "      <td>9.93%</td>\n",
       "      <td>NaN</td>\n",
       "      <td>RENT</td>\n",
       "      <td>29388</td>\n",
       "      <td>other</td>\n",
       "      <td>660</td>\n",
       "      <td>664</td>\n",
       "      <td>Individual</td>\n",
       "    </tr>\n",
       "    <tr>\n",
       "      <th>443563</th>\n",
       "      <td>4000</td>\n",
       "      <td>36</td>\n",
       "      <td>11.99%</td>\n",
       "      <td>NaN</td>\n",
       "      <td>RENT</td>\n",
       "      <td>14112</td>\n",
       "      <td>debt_consolidation</td>\n",
       "      <td>750</td>\n",
       "      <td>754</td>\n",
       "      <td>Individual</td>\n",
       "    </tr>\n",
       "  </tbody>\n",
       "</table>\n",
       "<p>25990 rows × 10 columns</p>\n",
       "</div>"
      ],
      "text/plain": [
       "       loan_amnt  term int_rate emp_length home_ownership annual_inc  \\\n",
       "16         28000    60   18.06%        NaN       MORTGAGE      93996   \n",
       "21         20000    36    7.21%        NaN       MORTGAGE      40000   \n",
       "54          4800    36    7.21%        NaN           RENT      17850   \n",
       "56         12000    36   11.99%        NaN       MORTGAGE      55555   \n",
       "62         15175    36    7.97%        NaN       MORTGAGE      73200   \n",
       "74         25000    36    7.97%        NaN            OWN      82000   \n",
       "110         5000    36    7.07%        NaN            OWN      45000   \n",
       "132         5500    36   17.09%        NaN       MORTGAGE      43200   \n",
       "141         3000    36   10.91%        NaN           RENT      19500   \n",
       "148        16000    36   11.99%        NaN            OWN      60000   \n",
       "210         3200    36   10.42%        NaN            OWN      42000   \n",
       "213        12000    60   10.42%        NaN           RENT      50000   \n",
       "221        32000    36   13.59%        NaN       MORTGAGE      90000   \n",
       "227         4000    36   14.08%        NaN           RENT      21500   \n",
       "241        40000    36    7.21%        NaN       MORTGAGE     125000   \n",
       "243         6150    36    9.44%        NaN           RENT      24000   \n",
       "264         5000    36   11.99%        NaN           RENT      19600   \n",
       "268         2400    36   16.02%        NaN       MORTGAGE      11340   \n",
       "304        26000    36    7.07%        NaN       MORTGAGE     105000   \n",
       "309         4000    36    9.44%        NaN            OWN      34000   \n",
       "320        25000    36    5.32%        NaN       MORTGAGE      62001   \n",
       "323         8000    36    5.32%        NaN       MORTGAGE      60000   \n",
       "338        10000    36    9.44%        NaN            OWN      50000   \n",
       "355        30000    60    9.44%        NaN       MORTGAGE      65000   \n",
       "357         2500    36    7.97%        NaN           RENT      16200   \n",
       "377         3025    36    9.93%        NaN           RENT      25000   \n",
       "412        18000    60   14.08%        NaN       MORTGAGE      88000   \n",
       "427         4500    36   19.03%        NaN           RENT      12924   \n",
       "434        13000    60   19.03%        NaN           RENT      40000   \n",
       "444         6000    36    9.44%        NaN       MORTGAGE      45000   \n",
       "...          ...   ...      ...        ...            ...        ...   \n",
       "443070     40000    36    7.21%        NaN       MORTGAGE     194000   \n",
       "443089      8500    36    9.44%        NaN            OWN      58500   \n",
       "443105      5000    36    9.44%        NaN       MORTGAGE      68000   \n",
       "443140     15000    36    9.44%        NaN       MORTGAGE      74000   \n",
       "443153      7825    36   23.88%        NaN       MORTGAGE      27000   \n",
       "443162      2500    36   14.08%        NaN       MORTGAGE      15000   \n",
       "443171      6000    36    5.32%        NaN            OWN      20000   \n",
       "443188     16000    36    9.93%        NaN       MORTGAGE      53000   \n",
       "443189     23900    36    9.44%        NaN           RENT      52000   \n",
       "443197     24000    36   10.42%        NaN       MORTGAGE      80000   \n",
       "443200     30000    60   24.85%        NaN       MORTGAGE      63000   \n",
       "443202     10000    36    7.35%        NaN       MORTGAGE      35000   \n",
       "443213      4800    36    7.97%        NaN            OWN      29000   \n",
       "443216      4000    36   14.08%        NaN       MORTGAGE      23700   \n",
       "443281     16000    60   25.82%        NaN       MORTGAGE      48396   \n",
       "443307      7500    36   14.08%        NaN           RENT      21000   \n",
       "443316     10500    60    9.44%        NaN       MORTGAGE      40000   \n",
       "443348     35000    60   18.06%        NaN       MORTGAGE     110000   \n",
       "443355      6500    36   12.62%        NaN            OWN     120000   \n",
       "443365     28000    36    7.97%        NaN       MORTGAGE      58298   \n",
       "443374     12000    36    7.35%        NaN           RENT      34000   \n",
       "443411      2100    36   21.45%        NaN            OWN      54108   \n",
       "443443     15225    36   24.85%        NaN            OWN      70000   \n",
       "443452      5600    36   19.03%        NaN            OWN      25000   \n",
       "443454      2100    36    7.07%        NaN            OWN      55000   \n",
       "443474     35000    60    7.97%        NaN            OWN      94900   \n",
       "443489      3500    36   10.42%        NaN           RENT      26000   \n",
       "443508     13000    36    7.07%        NaN       MORTGAGE      84000   \n",
       "443533      5000    36    9.93%        NaN           RENT      29388   \n",
       "443563      4000    36   11.99%        NaN           RENT      14112   \n",
       "\n",
       "                   purpose fico_range_low fico_range_high application_type  \n",
       "16          major_purchase            700             704       Individual  \n",
       "21      debt_consolidation            710             714       Individual  \n",
       "54      debt_consolidation            715             719       Individual  \n",
       "56      debt_consolidation            710             714       Individual  \n",
       "62      debt_consolidation            705             709       Individual  \n",
       "74      debt_consolidation            735             739       Individual  \n",
       "110     debt_consolidation            785             789       Individual  \n",
       "132       home_improvement            700             704       Individual  \n",
       "141                    car            695             699       Individual  \n",
       "148     debt_consolidation            745             749       Individual  \n",
       "210                  other            695             699       Individual  \n",
       "213                  other            790             794       Individual  \n",
       "221     debt_consolidation            670             674       Individual  \n",
       "227     debt_consolidation            685             689       Individual  \n",
       "241     debt_consolidation            730             734       Individual  \n",
       "243                    car            670             674       Individual  \n",
       "264     debt_consolidation            675             679       Individual  \n",
       "268       home_improvement            715             719       Individual  \n",
       "304     debt_consolidation            750             754       Individual  \n",
       "309                  other            765             769       Individual  \n",
       "320     debt_consolidation            770             774       Individual  \n",
       "323       home_improvement            800             804       Individual  \n",
       "338     debt_consolidation            660             664       Individual  \n",
       "355     debt_consolidation            740             744       Individual  \n",
       "357     debt_consolidation            745             749       Individual  \n",
       "377                  other            710             714       Individual  \n",
       "412     debt_consolidation            660             664       Individual  \n",
       "427     debt_consolidation            680             684       Individual  \n",
       "434            credit_card            685             689       Individual  \n",
       "444     debt_consolidation            690             694       Individual  \n",
       "...                    ...            ...             ...              ...  \n",
       "443070    home_improvement            790             794       Individual  \n",
       "443089         credit_card            705             709       Individual  \n",
       "443105  debt_consolidation            660             664       Individual  \n",
       "443140  debt_consolidation            730             734       Individual  \n",
       "443153  debt_consolidation            685             689       Individual  \n",
       "443162               other            675             679       Individual  \n",
       "443171  debt_consolidation            800             804       Individual  \n",
       "443188      major_purchase            660             664       Individual  \n",
       "443189               house            795             799       Individual  \n",
       "443197  debt_consolidation            685             689       Individual  \n",
       "443200               other            765             769       Individual  \n",
       "443202  debt_consolidation            705             709       Individual  \n",
       "443213  debt_consolidation            710             714       Individual  \n",
       "443216    home_improvement            690             694       Individual  \n",
       "443281               other            680             684       Individual  \n",
       "443307  debt_consolidation            740             744       Individual  \n",
       "443316  debt_consolidation            725             729       Individual  \n",
       "443348      small_business            675             679       Individual  \n",
       "443355  debt_consolidation            660             664       Individual  \n",
       "443365  debt_consolidation            755             759       Individual  \n",
       "443374  debt_consolidation            725             729       Individual  \n",
       "443411               other            710             714       Individual  \n",
       "443443         credit_card            660             664       Individual  \n",
       "443452  debt_consolidation            665             669       Individual  \n",
       "443454               other            795             799       Individual  \n",
       "443474               other            825             829       Individual  \n",
       "443489  debt_consolidation            700             704       Individual  \n",
       "443508  debt_consolidation            755             759       Individual  \n",
       "443533               other            660             664       Individual  \n",
       "443563  debt_consolidation            750             754       Individual  \n",
       "\n",
       "[25990 rows x 10 columns]"
      ]
     },
     "execution_count": 22,
     "metadata": {},
     "output_type": "execute_result"
    }
   ],
   "source": [
    "#Check for null values in emp_length\n",
    "df1[df1['emp_length'].isnull()]"
   ]
  },
  {
   "cell_type": "code",
   "execution_count": 30,
   "metadata": {},
   "outputs": [
    {
     "data": {
      "text/plain": [
       "array(['3 years', '< 1 year', '4 years', '7 years', '10+ years',\n",
       "       '2 years', '1 year', '5 years', nan, '9 years', '6 years',\n",
       "       '8 years'], dtype=object)"
      ]
     },
     "execution_count": 30,
     "metadata": {},
     "output_type": "execute_result"
    }
   ],
   "source": [
    "df1['emp_length'].unique()"
   ]
  },
  {
   "cell_type": "code",
   "execution_count": 37,
   "metadata": {},
   "outputs": [],
   "source": [
    "#Convert emp_length to numerical\n",
    "df1['emp_length'].fillna(value=0,inplace=True)\n",
    "df1['emp_length'].replace(to_replace='[^0-9]+', value='', inplace=True, regex=True)\n",
    "df1['emp_length'] = df1['emp_length'].astype(int)"
   ]
  },
  {
   "cell_type": "code",
   "execution_count": 38,
   "metadata": {},
   "outputs": [
    {
     "data": {
      "text/plain": [
       "array([ 3,  1,  4,  7, 10,  2,  5,  0,  9,  6,  8], dtype=int64)"
      ]
     },
     "execution_count": 38,
     "metadata": {},
     "output_type": "execute_result"
    }
   ],
   "source": [
    "df1['emp_length'].unique()"
   ]
  },
  {
   "cell_type": "code",
   "execution_count": 213,
   "metadata": {},
   "outputs": [
    {
     "data": {
      "text/html": [
       "<div>\n",
       "<style scoped>\n",
       "    .dataframe tbody tr th:only-of-type {\n",
       "        vertical-align: middle;\n",
       "    }\n",
       "\n",
       "    .dataframe tbody tr th {\n",
       "        vertical-align: top;\n",
       "    }\n",
       "\n",
       "    .dataframe thead th {\n",
       "        text-align: right;\n",
       "    }\n",
       "</style>\n",
       "<table border=\"1\" class=\"dataframe\">\n",
       "  <thead>\n",
       "    <tr style=\"text-align: right;\">\n",
       "      <th></th>\n",
       "      <th>loan_amnt</th>\n",
       "      <th>term</th>\n",
       "      <th>int_rate</th>\n",
       "      <th>emp_length</th>\n",
       "      <th>home_ownership</th>\n",
       "      <th>annual_inc</th>\n",
       "      <th>purpose</th>\n",
       "      <th>fico_range_low</th>\n",
       "      <th>fico_range_high</th>\n",
       "      <th>application_type</th>\n",
       "    </tr>\n",
       "  </thead>\n",
       "  <tbody>\n",
       "    <tr>\n",
       "      <th>352330</th>\n",
       "      <td>10000</td>\n",
       "      <td>36</td>\n",
       "      <td>12.62</td>\n",
       "      <td>NaN</td>\n",
       "      <td>NaN</td>\n",
       "      <td>92000.0</td>\n",
       "      <td>debt_consolidation</td>\n",
       "      <td>680</td>\n",
       "      <td>684</td>\n",
       "      <td>Individual</td>\n",
       "    </tr>\n",
       "  </tbody>\n",
       "</table>\n",
       "</div>"
      ],
      "text/plain": [
       "        loan_amnt  term  int_rate emp_length home_ownership  annual_inc  \\\n",
       "352330      10000    36     12.62        NaN            NaN     92000.0   \n",
       "\n",
       "                   purpose  fico_range_low  fico_range_high application_type  \n",
       "352330  debt_consolidation             680              684       Individual  "
      ]
     },
     "execution_count": 213,
     "metadata": {},
     "output_type": "execute_result"
    }
   ],
   "source": [
    "#check for null values\n",
    "df1[df1['home_ownership'].isnull()]"
   ]
  },
  {
   "cell_type": "code",
   "execution_count": 214,
   "metadata": {},
   "outputs": [],
   "source": [
    "#We have one record in home_ownership that is null as you can see above, what do we do with it?"
   ]
  },
  {
   "cell_type": "code",
   "execution_count": 215,
   "metadata": {},
   "outputs": [
    {
     "data": {
      "text/plain": [
       "array(['RENT', 'MORTGAGE', 'OWN', 'ANY', nan], dtype=object)"
      ]
     },
     "execution_count": 215,
     "metadata": {},
     "output_type": "execute_result"
    }
   ],
   "source": [
    "df1['home_ownership'].unique()"
   ]
  },
  {
   "cell_type": "code",
   "execution_count": 216,
   "metadata": {},
   "outputs": [
    {
     "data": {
      "text/html": [
       "<div>\n",
       "<style scoped>\n",
       "    .dataframe tbody tr th:only-of-type {\n",
       "        vertical-align: middle;\n",
       "    }\n",
       "\n",
       "    .dataframe tbody tr th {\n",
       "        vertical-align: top;\n",
       "    }\n",
       "\n",
       "    .dataframe thead th {\n",
       "        text-align: right;\n",
       "    }\n",
       "</style>\n",
       "<table border=\"1\" class=\"dataframe\">\n",
       "  <thead>\n",
       "    <tr style=\"text-align: right;\">\n",
       "      <th></th>\n",
       "      <th>loan_amnt</th>\n",
       "      <th>term</th>\n",
       "      <th>int_rate</th>\n",
       "      <th>emp_length</th>\n",
       "      <th>home_ownership</th>\n",
       "      <th>annual_inc</th>\n",
       "      <th>purpose</th>\n",
       "      <th>fico_range_low</th>\n",
       "      <th>fico_range_high</th>\n",
       "      <th>application_type</th>\n",
       "    </tr>\n",
       "  </thead>\n",
       "  <tbody>\n",
       "  </tbody>\n",
       "</table>\n",
       "</div>"
      ],
      "text/plain": [
       "Empty DataFrame\n",
       "Columns: [loan_amnt, term, int_rate, emp_length, home_ownership, annual_inc, purpose, fico_range_low, fico_range_high, application_type]\n",
       "Index: []"
      ]
     },
     "execution_count": 216,
     "metadata": {},
     "output_type": "execute_result"
    }
   ],
   "source": [
    "df1[df1['purpose'].isnull()]"
   ]
  },
  {
   "cell_type": "code",
   "execution_count": 217,
   "metadata": {},
   "outputs": [
    {
     "data": {
      "text/plain": [
       "array(['debt_consolidation', 'other', 'home_improvement',\n",
       "       'major_purchase', 'credit_card', 'small_business', 'car',\n",
       "       'vacation', 'medical', 'moving', 'house', 'renewable_energy',\n",
       "       'educational', 'wedding'], dtype=object)"
      ]
     },
     "execution_count": 217,
     "metadata": {},
     "output_type": "execute_result"
    }
   ],
   "source": [
    "df1['purpose'].unique()"
   ]
  },
  {
   "cell_type": "code",
   "execution_count": null,
   "metadata": {},
   "outputs": [],
   "source": []
  }
 ],
 "metadata": {
  "kernelspec": {
   "display_name": "Python 3",
   "language": "python",
   "name": "python3"
  },
  "language_info": {
   "codemirror_mode": {
    "name": "ipython",
    "version": 3
   },
   "file_extension": ".py",
   "mimetype": "text/x-python",
   "name": "python",
   "nbconvert_exporter": "python",
   "pygments_lexer": "ipython3",
   "version": "3.6.4"
  }
 },
 "nbformat": 4,
 "nbformat_minor": 1
}
